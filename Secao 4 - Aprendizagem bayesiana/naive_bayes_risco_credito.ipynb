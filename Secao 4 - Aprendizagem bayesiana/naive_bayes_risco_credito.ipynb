{
 "cells": [
  {
   "cell_type": "code",
   "execution_count": 1,
   "metadata": {},
   "outputs": [],
   "source": [
    "import pandas as pd"
   ]
  },
  {
   "cell_type": "code",
   "execution_count": 2,
   "metadata": {},
   "outputs": [],
   "source": [
    "base = pd.read_csv('risco_credito.csv')"
   ]
  },
  {
   "cell_type": "code",
   "execution_count": 3,
   "metadata": {},
   "outputs": [
    {
     "data": {
      "text/html": [
       "<div>\n",
       "<style scoped>\n",
       "    .dataframe tbody tr th:only-of-type {\n",
       "        vertical-align: middle;\n",
       "    }\n",
       "\n",
       "    .dataframe tbody tr th {\n",
       "        vertical-align: top;\n",
       "    }\n",
       "\n",
       "    .dataframe thead th {\n",
       "        text-align: right;\n",
       "    }\n",
       "</style>\n",
       "<table border=\"1\" class=\"dataframe\">\n",
       "  <thead>\n",
       "    <tr style=\"text-align: right;\">\n",
       "      <th></th>\n",
       "      <th>historia</th>\n",
       "      <th>divida</th>\n",
       "      <th>garantias</th>\n",
       "      <th>renda</th>\n",
       "      <th>c#risco</th>\n",
       "    </tr>\n",
       "  </thead>\n",
       "  <tbody>\n",
       "    <tr>\n",
       "      <th>0</th>\n",
       "      <td>ruim</td>\n",
       "      <td>alta</td>\n",
       "      <td>nenhuma</td>\n",
       "      <td>0_15</td>\n",
       "      <td>alto</td>\n",
       "    </tr>\n",
       "    <tr>\n",
       "      <th>1</th>\n",
       "      <td>desconhecida</td>\n",
       "      <td>alta</td>\n",
       "      <td>nenhuma</td>\n",
       "      <td>15_35</td>\n",
       "      <td>alto</td>\n",
       "    </tr>\n",
       "    <tr>\n",
       "      <th>2</th>\n",
       "      <td>desconhecida</td>\n",
       "      <td>baixa</td>\n",
       "      <td>nenhuma</td>\n",
       "      <td>15_35</td>\n",
       "      <td>moderado</td>\n",
       "    </tr>\n",
       "    <tr>\n",
       "      <th>3</th>\n",
       "      <td>desconhecida</td>\n",
       "      <td>baixa</td>\n",
       "      <td>nenhuma</td>\n",
       "      <td>acima_35</td>\n",
       "      <td>alto</td>\n",
       "    </tr>\n",
       "    <tr>\n",
       "      <th>4</th>\n",
       "      <td>desconhecida</td>\n",
       "      <td>baixa</td>\n",
       "      <td>nenhuma</td>\n",
       "      <td>acima_35</td>\n",
       "      <td>baixo</td>\n",
       "    </tr>\n",
       "  </tbody>\n",
       "</table>\n",
       "</div>"
      ],
      "text/plain": [
       "       historia divida garantias     renda   c#risco\n",
       "0          ruim   alta   nenhuma      0_15      alto\n",
       "1  desconhecida   alta   nenhuma     15_35      alto\n",
       "2  desconhecida  baixa   nenhuma     15_35  moderado\n",
       "3  desconhecida  baixa   nenhuma  acima_35      alto\n",
       "4  desconhecida  baixa   nenhuma  acima_35     baixo"
      ]
     },
     "execution_count": 3,
     "metadata": {},
     "output_type": "execute_result"
    }
   ],
   "source": [
    "base.head()"
   ]
  },
  {
   "cell_type": "code",
   "execution_count": 5,
   "metadata": {},
   "outputs": [],
   "source": [
    "previsores = base.iloc[:,0:4].values"
   ]
  },
  {
   "cell_type": "code",
   "execution_count": 8,
   "metadata": {},
   "outputs": [],
   "source": [
    "classe = base.iloc[:,4].values"
   ]
  },
  {
   "cell_type": "code",
   "execution_count": 10,
   "metadata": {},
   "outputs": [
    {
     "data": {
      "text/plain": [
       "array([['ruim', 'alta', 'nenhuma', '0_15'],\n",
       "       ['desconhecida', 'alta', 'nenhuma', '15_35'],\n",
       "       ['desconhecida', 'baixa', 'nenhuma', '15_35'],\n",
       "       ['desconhecida', 'baixa', 'nenhuma', 'acima_35'],\n",
       "       ['desconhecida', 'baixa', 'nenhuma', 'acima_35'],\n",
       "       ['desconhecida', 'baixa', 'adequada', 'acima_35'],\n",
       "       ['ruim', 'baixa', 'nenhuma', '0_15'],\n",
       "       ['ruim', 'baixa', 'adequada', 'acima_35'],\n",
       "       ['boa', 'baixa', 'nenhuma', 'acima_35'],\n",
       "       ['boa', 'alta', 'adequada', 'acima_35'],\n",
       "       ['boa', 'alta', 'nenhuma', '0_15'],\n",
       "       ['boa', 'alta', 'nenhuma', '15_35'],\n",
       "       ['boa', 'alta', 'nenhuma', 'acima_35'],\n",
       "       ['ruim', 'alta', 'nenhuma', '15_35']], dtype=object)"
      ]
     },
     "execution_count": 10,
     "metadata": {},
     "output_type": "execute_result"
    }
   ],
   "source": [
    "previsores"
   ]
  },
  {
   "cell_type": "code",
   "execution_count": 12,
   "metadata": {},
   "outputs": [
    {
     "name": "stdout",
     "output_type": "stream",
     "text": [
      "0\n",
      "1\n",
      "2\n",
      "3\n"
     ]
    }
   ],
   "source": [
    "from sklearn.preprocessing import LabelEncoder\n",
    "\n",
    "labelenconder = LabelEncoder()\n",
    "\n",
    "for i in range(4):\n",
    "    previsores[:,i] = labelenconder.fit_transform(previsores[:,i])"
   ]
  },
  {
   "cell_type": "code",
   "execution_count": 13,
   "metadata": {},
   "outputs": [
    {
     "data": {
      "text/plain": [
       "GaussianNB(priors=None, var_smoothing=1e-09)"
      ]
     },
     "execution_count": 13,
     "metadata": {},
     "output_type": "execute_result"
    }
   ],
   "source": [
    "from sklearn.naive_bayes import GaussianNB\n",
    "\n",
    "classificador = GaussianNB()\n",
    "classificador.fit(previsores, classe)"
   ]
  },
  {
   "cell_type": "code",
   "execution_count": 19,
   "metadata": {},
   "outputs": [],
   "source": [
    "# historia boa, divida alta, garantias nenhuma, renda > 35\n",
    "#historia = ruim, divida = alta, garantias = adequada, renda < 15\n",
    "resultado = classificador.predict([[0,0,1,2], [3,0,0,0]])"
   ]
  },
  {
   "cell_type": "code",
   "execution_count": 20,
   "metadata": {},
   "outputs": [
    {
     "data": {
      "text/plain": [
       "array(['baixo', 'moderado'], dtype='<U8')"
      ]
     },
     "execution_count": 20,
     "metadata": {},
     "output_type": "execute_result"
    }
   ],
   "source": [
    "resultado"
   ]
  },
  {
   "cell_type": "code",
   "execution_count": 21,
   "metadata": {},
   "outputs": [
    {
     "data": {
      "text/plain": [
       "array(['alto', 'baixo', 'moderado'], dtype='<U8')"
      ]
     },
     "execution_count": 21,
     "metadata": {},
     "output_type": "execute_result"
    }
   ],
   "source": [
    "classificador.classes_"
   ]
  },
  {
   "cell_type": "code",
   "execution_count": 22,
   "metadata": {},
   "outputs": [
    {
     "name": "stdout",
     "output_type": "stream",
     "text": [
      "[6. 5. 3.]\n"
     ]
    }
   ],
   "source": [
    "print(classificador.class_count_)"
   ]
  },
  {
   "cell_type": "code",
   "execution_count": 23,
   "metadata": {},
   "outputs": [
    {
     "name": "stdout",
     "output_type": "stream",
     "text": [
      "[0.42857143 0.35714286 0.21428571]\n"
     ]
    }
   ],
   "source": [
    "print(classificador.class_prior_)"
   ]
  },
  {
   "cell_type": "code",
   "execution_count": null,
   "metadata": {},
   "outputs": [],
   "source": []
  }
 ],
 "metadata": {
  "kernelspec": {
   "display_name": "Python 3",
   "language": "python",
   "name": "python3"
  },
  "language_info": {
   "codemirror_mode": {
    "name": "ipython",
    "version": 3
   },
   "file_extension": ".py",
   "mimetype": "text/x-python",
   "name": "python",
   "nbconvert_exporter": "python",
   "pygments_lexer": "ipython3",
   "version": "3.7.6"
  }
 },
 "nbformat": 4,
 "nbformat_minor": 4
}
