{
 "cells": [
  {
   "cell_type": "code",
   "execution_count": 40,
   "metadata": {},
   "outputs": [],
   "source": [
    "import pandas as pd\n",
    "import numpy as np\n",
    "\n",
    "base = pd.read_csv('credit_data.csv')\n",
    "base.loc[base.age < 0, 'age'] = 40.92\n",
    "               \n",
    "previsores = base.iloc[:, 1:4].values\n",
    "classe = base.iloc[:, 4].values\n",
    "\n",
    "from sklearn.impute import SimpleImputer\n",
    "imputer = SimpleImputer(missing_values = np.nan, strategy = 'mean')\n",
    "imputer = imputer.fit(previsores[:, 1:4])\n",
    "previsores[:, 1:4] = imputer.transform(previsores[:, 1:4])\n",
    "\n",
    "from sklearn.preprocessing import StandardScaler\n",
    "scaler = StandardScaler()\n",
    "previsores = scaler.fit_transform(previsores)\n",
    "\n",
    "from sklearn.model_selection import train_test_split\n",
    "previsores_treinamento, previsores_teste, classe_treinamento, classe_teste = train_test_split(previsores, classe, test_size=0.25, random_state=0)\n"
   ]
  },
  {
   "cell_type": "raw",
   "metadata": {},
   "source": []
  },
  {
   "cell_type": "code",
   "execution_count": 41,
   "metadata": {},
   "outputs": [
    {
     "name": "stdout",
     "output_type": "stream",
     "text": [
      "\n",
      "inicio da analise Kenerl linear\n",
      "precisao linear 0.946\n",
      "precisao linear \n",
      " [[422  14]\n",
      " [ 13  51]]\n",
      "\n",
      "inicio da analise Kenerl poly\n",
      "precisao poly 0.968\n",
      "precisao poly \n",
      " [[431   5]\n",
      " [ 11  53]]\n",
      "\n",
      "inicio da analise Kenerl rbf\n",
      "precisao rbf 0.988\n",
      "precisao rbf \n",
      " [[434   2]\n",
      " [  4  60]]\n",
      "\n",
      "inicio da analise Kenerl sigmoid\n",
      "precisao sigmoid 0.826\n",
      "precisao sigmoid \n",
      " [[387  49]\n",
      " [ 38  26]]\n"
     ]
    }
   ],
   "source": [
    "from sklearn.svm import SVC\n",
    "from sklearn.metrics import confusion_matrix, accuracy_score\n",
    "import collections\n",
    "\n",
    "for Kernel in ['linear', 'poly', 'rbf', 'sigmoid']:\n",
    "    print('\\ninicio da analise Kenerl {}'.format(Kernel))\n",
    "    classificador  = SVC(kernel= Kernel, random_state = 1, C = 2.0, gamma='auto')\n",
    "    classificador .fit(previsores_treinamento, classe_treinamento)\n",
    "    previsoes  = classificador .predict(previsores_teste)\n",
    "    previsoes  = classificador .predict(previsores_teste)\n",
    "    precisao  = accuracy_score(classe_teste, previsoes )\n",
    "    matrix  = confusion_matrix(classe_teste, previsoes )\n",
    "    print('precisao', Kernel, precisao )\n",
    "    print('precisao', Kernel, '\\n', matrix)"
   ]
  },
  {
   "cell_type": "code",
   "execution_count": 42,
   "metadata": {},
   "outputs": [
    {
     "data": {
      "text/plain": [
       "Counter({1: 64, 0: 436})"
      ]
     },
     "execution_count": 42,
     "metadata": {},
     "output_type": "execute_result"
    }
   ],
   "source": [
    "collections.Counter(classe_teste)"
   ]
  },
  {
   "cell_type": "code",
   "execution_count": null,
   "metadata": {},
   "outputs": [],
   "source": []
  }
 ],
 "metadata": {
  "kernelspec": {
   "display_name": "Python 3",
   "language": "python",
   "name": "python3"
  },
  "language_info": {
   "codemirror_mode": {
    "name": "ipython",
    "version": 3
   },
   "file_extension": ".py",
   "mimetype": "text/x-python",
   "name": "python",
   "nbconvert_exporter": "python",
   "pygments_lexer": "ipython3",
   "version": "3.7.6"
  }
 },
 "nbformat": 4,
 "nbformat_minor": 4
}
